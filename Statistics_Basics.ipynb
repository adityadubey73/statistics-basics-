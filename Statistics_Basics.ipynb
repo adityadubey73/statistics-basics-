{
  "nbformat": 4,
  "nbformat_minor": 0,
  "metadata": {
    "colab": {
      "provenance": []
    },
    "kernelspec": {
      "name": "python3",
      "display_name": "Python 3"
    },
    "language_info": {
      "name": "python"
    }
  },
  "cells": [
    {
      "cell_type": "markdown",
      "source": [
        "# THEORY"
      ],
      "metadata": {
        "id": "CwV3agLqCYHG"
      }
    },
    {
      "cell_type": "markdown",
      "source": [
        "# What is statistics, and why is it important\n",
        "\n",
        "> Statistics is the science of collecting, organizing, analyzing, interpreting, and presenting data. It's a vital tool for understanding the world around us because it allows us to make sense of complex information, identify patterns, and make informed decisions in various fields.\n",
        "\n",
        "Here's why statistics is important:\n",
        "Understanding Data:\n",
        "Statistics provides methods to summarize and interpret data, making it easier to grasp large amounts of information.\n",
        "\n",
        "Informed Decision Making:\n",
        "By analyzing data, statistics helps in making better decisions in areas like business, healthcare, and policymaking.\n",
        "\n",
        "Identifying Trends and Patterns:\n",
        "Statistical analysis can reveal trends and patterns that might not be obvious from raw data, helping to predict future outcomes.\n",
        "\n",
        "Scientific Research:\n",
        "Statistics is fundamental to research across various disciplines, allowing scientists to draw conclusions from experiments and studies.\n",
        "\n"
      ],
      "metadata": {
        "id": "TqlxLdixCfI4"
      }
    },
    {
      "cell_type": "markdown",
      "source": [
        "# What are the two main types of statistics\n",
        "\n",
        "> The two main types of statistics are Descriptive Statistics and Inferential Statistics. Descriptive statistics focuses on summarizing and describing the basic features of a dataset, while inferential statistics uses sample data to make inferences and predictions about a larger population.\n"
      ],
      "metadata": {
        "id": "vHUmz0U7C6Wn"
      }
    },
    {
      "cell_type": "markdown",
      "source": [
        "# What are descriptive statistics\n",
        "\n",
        "> Descriptive statistics are used to summarize, organize, and describe the characteristics of a dataset in a meaningful way, without making inferences about a larger population. They focus on presenting the main features of the data through measures of central tendency, variability, and distribution shape.\n"
      ],
      "metadata": {
        "id": "EQIR5jR1DHbj"
      }
    },
    {
      "cell_type": "markdown",
      "source": [
        "# What is inferential statistics\n",
        "\n",
        "> Inferential statistics uses sample data to make generalizations or predictions about a larger population. It goes beyond simply describing a dataset (descriptive statistics) to draw conclusions and test hypotheses about the entire population from which the sample was drawn.\n"
      ],
      "metadata": {
        "id": "6GNSi8E4DgU7"
      }
    },
    {
      "cell_type": "markdown",
      "source": [
        "# What is sampling in statistics\n",
        "\n",
        "> In statistics, sampling is the process of selecting a subset of individuals or data points from a larger population to study and draw conclusions about the entire population. It's used when it's impractical or impossible to analyze the whole population due to size, cost, or time constraints.\n"
      ],
      "metadata": {
        "id": "zbYWIYwqD9CE"
      }
    },
    {
      "cell_type": "markdown",
      "source": [
        "#  What are the different types of sampling methods\n",
        "\n",
        "> Sampling methods can be broadly categorized into probability (random) sampling and non-probability (non-random) sampling. Probability sampling gives each member of the population a known chance of being selected, while non-probability sampling does not.\n",
        "\n",
        "Probability Sampling Methods:\n",
        "\n",
        "Simple Random Sampling:\n",
        "Every member has an equal and random chance of selection.\n",
        "\n",
        "Systematic Sampling:\n",
        "Elements are selected at regular intervals (e.g., every 10th person).\n",
        "\n",
        "Stratified Sampling:\n",
        "The population is divided into subgroups (strata), and samples are drawn from each.\n",
        "\n",
        "Cluster Sampling:\n",
        "The population is divided into clusters, and some clusters are randomly selected.\n",
        "\n",
        "Non-Probability Sampling Methods:\n",
        "\n",
        "Convenience Sampling:\n",
        "Participants are selected based on ease of access.\n",
        "\n",
        "Purposive Sampling:\n",
        "Participants are chosen based on specific characteristics or criteria.\n",
        "\n",
        "Snowball Sampling:\n",
        "Participants recruit other participantsoften used when the population is hard to reach.\n",
        "\n",
        "Quota Sampling:\n",
        "The population is divided into subgroups, and quotas are set for each subgroup.\n",
        "\n",
        "Consecutive Sampling:\n",
        "Involves selecting all individuals who meet the inclusion criteria over a specific time period.\n",
        "\n",
        "Voluntary Response Sampling:\n",
        "Individuals choose to participate in the sample.\n"
      ],
      "metadata": {
        "id": "KyxpY9FFEJWD"
      }
    },
    {
      "cell_type": "markdown",
      "source": [
        "# What is the difference between random and non-random sampling\n",
        "\n",
        "> Random Sampling:\n",
        "\n",
        "Definition:\n",
        "Random sampling involves selecting individuals from a population in such a way that each member has a known and equal probability of being chosen.\n",
        "\n",
        "Example:\n",
        "Drawing names from a hat, or using a random number generator to select participants.\n",
        "\n",
        "Benefits:\n",
        "Minimizes bias, provides a representative sample, and allows for statistical inference about the population.\n",
        "\n",
        "Methods:\n",
        "Includes techniques like simple random sampling, stratified random sampling, cluster sampling, and systematic sampling.\n",
        "\n",
        "Limitations:\n",
        "Can be time-consuming and expensive, and may not always be feasible, especially if the population is difficult to define or access.\n",
        "\n",
        " * Non-Random Sampling:\n",
        "\n",
        "Definition:\n",
        "Non-random sampling involves selecting individuals based on specific criteria, convenience, or the researcher's judgment.\n",
        "\n",
        "Example:\n",
        "Conducting a survey at a mall, interviewing people who are available, or selecting experts in a particular field.\n",
        "\n",
        "Benefits:\n",
        "Often faster and cheaper than random sampling, can be useful for exploratory studies, and may be necessary when access to a full population is limited.\n",
        "\n",
        "Methods:\n",
        "Includes techniques like convenience sampling, purposive sampling, quota sampling, and snowball sampling.\n",
        "\n",
        "Limitations:\n",
        "May introduce bias, can't generalize findings to the larger population, and may not be suitable for conclusive research.\n",
        "\n",
        "\n",
        "\n"
      ],
      "metadata": {
        "id": "UZZTuAsjEqEN"
      }
    },
    {
      "cell_type": "markdown",
      "source": [
        "# Define and give examples of qualitative and quantitative data\n",
        "\n",
        "> Qualitative Data:\n",
        "Definition: Information that is not expressed numerically and is often used to understand the qualities, characteristics, or meanings behind something.\n",
        "Examples:\n",
        "The color of a flower (red, blue, yellow).\n",
        "The taste of an apple (sweet, tart, acidic).\n",
        "A person's opinion on a product (positive, negative, neutral).\n",
        "Ethnographic observations (describing cultural practices).\n",
        "Data Collection Methods: Interviews, focus groups, observations, document analysis.\n",
        "\n",
        "Quantitative Data:\n",
        "Definition: Information that can be expressed numerically and is used to measure or count things.\n",
        "\n",
        "Examples:\n",
        "Height (in inches or centimeters).\n",
        "Weight (in pounds or kilograms).\n",
        "Age (in years).\n",
        "\n",
        "The number of students in a class.\n",
        "\n",
        "Data Collection Methods: Surveys, experiments, statistical data collection.\n"
      ],
      "metadata": {
        "id": "1LfHNU5BFVaG"
      }
    },
    {
      "cell_type": "markdown",
      "source": [
        "# What are the different types of data in statistics\n",
        "\n",
        "> In statistics, data is broadly classified into qualitative (categorical) and quantitative (numerical) data. Qualitative data describes qualities or attributes, while quantitative data represents quantities or can be measured numerically. Both types have further subdivisions: qualitative into nominal and ordinal, and quantitative into discrete and continuous.\n",
        "\n",
        "Qualitative (Categorical) Data:\n",
        "Nominal:\n",
        "Categories without a natural order or ranking (e.g., colors, genders, types of fruits).\n",
        "\n",
        "Ordinal:\n",
        "Categories with a meaningful order or ranking, but the differences between categories may not be equal (e.g., survey responses on a Likert scale, rankings in a sports competition).\n",
        "\n",
        "Quantitative (Numerical) Data:\n",
        "Discrete:\n",
        "Data that can only take on specific, separate values, often whole numbers (e.g., number of cars, number of students, number of occurrences).\n",
        "\n",
        "Continuous:\n",
        "Data that can take any value within a given range (e.g., height, weight, temperature).\n",
        "\n",
        "Further Considerations:\n",
        "Interval and Ratio:\n",
        "Quantitative data can also be further categorized as interval (differences between values are meaningful, but there's no true zero point, e.g., temperature in Celsius) and ratio (differences between values are meaningful and there's a true zero point, e.g., height, weight).\n",
        "\n",
        " Level of Measurement:\n",
        "The type of data influences the appropriate statistical analysis techniques. For example, nominal data is often analyzed using frequencies and proportions, while continuous data might be analyzed using averages, standard deviations, and regression."
      ],
      "metadata": {
        "id": "u9ZqGKqvUmKz"
      }
    },
    {
      "cell_type": "markdown",
      "source": [
        "# Explain nominal, ordinal, interval, and ratio levels of measurement\n",
        "\n",
        "> The four levels of measurement, from least to most sophisticated, are nominal, ordinal, interval, and ratio. These levels describe the nature of information within the values assigned to variables.\n",
        "Levels of Measurement: Nominal, Ordinal, Interval and Ratio\n",
        "Here's a breakdown of each level:\n",
        "\n",
        "1. Nominal:\n",
        "Definition: Nominal scales categorize data into distinct, mutually exclusive categories, without any inherent order or ranking.\n",
        "Examples: Colors (red, blue, green), types of fruit (apple, banana, orange), or gender (male, female, other).\n",
        "\n",
        "Key Feature: Only allows for categorization and counting.\n",
        "2. Ordinal:\n",
        "Definition: Ordinal scales allow for categorization and ranking of data, but the differences between the ranks are not necessarily equal.\n",
        "Examples: Educational levels (high school, bachelor's, master's), customer satisfaction rankings (satisfied, neutral, dissatisfied), or socioeconomic status (low, medium, high).\n",
        "\n",
        "Key Feature: Provides order or ranking in addition to categorization.\n",
        "\n",
        "3. Interval:\n",
        "Definition: Interval scales allow for categorization, ranking, and equal intervals between data points, but there is no true zero point.\n",
        "Examples: Temperature in Celsius or Fahrenheit, dates on a calendar.\n",
        "Key Feature: Allows for meaningful calculations of differences between values, but ratios are not meaningful.\n",
        "\n",
        "4. Ratio:\n",
        "Definition: Ratio scales have all the properties of interval scales, but also include a true zero point, allowing for meaningful ratios between values.\n",
        "Examples: Height, weight, age, income, distance.\n"
      ],
      "metadata": {
        "id": "wfzauciNVjdM"
      }
    },
    {
      "cell_type": "markdown",
      "source": [
        "#  What is the measure of central tendency\n",
        "\n",
        "> Measures of central tendency are statistics that represent the central or typical value of a dataset. They help summarize data by providing a single value that represents the \"middle\" of the data distribution. The three main measures are:\n",
        "\n",
        "Mean: The average of all data points.\n",
        "\n",
        "Median: The middle value when the data is ordered.\n",
        "\n",
        "Mode: The most frequently occurring value in the dataset.\n"
      ],
      "metadata": {
        "id": "nagrPxfrWEOQ"
      }
    },
    {
      "cell_type": "markdown",
      "source": [
        "# Define mean, median, and mode\n",
        "\n",
        "> Mean, median, and mode are measures of central tendency that describe the \"average\" or typical value in a dataset. The mean is the average, calculated by summing all values and dividing by the number of values. The median is the middle value when the data is sorted. The mode is the value that appears most frequently.\n",
        "\n",
        "Here's a more detailed explanation:\n",
        "Mean:\n",
        "To find the mean, add up all the numbers in a dataset and then divide by the total count of numbers. For example, the mean of 2, 4, and 6 is (2+4+6)/3 = 4.\n",
        "\n",
        "Median:\n",
        "To find the median, first arrange the numbers in ascending order. The median is the middle number. If there's an even number of values, the median is the average of the two middle numbers. For example, the median of 2, 4, and 6 is 4.\n",
        "\n",
        "Mode:\n",
        "The mode is the number that appears most often in a dataset. For example, in the set {2, 4, 4, 6}, the mode is 4.\n"
      ],
      "metadata": {
        "id": "sioEYHxiWYEf"
      }
    },
    {
      "cell_type": "markdown",
      "source": [
        "# What is the significance of the measure of central tendency.\n",
        "\n",
        "> Measures of central tendency, like mean, median, and mode, are crucial in statistics because they provide a single, representative value to describe a dataset. They help condense large datasets into a more manageable form, facilitating understanding and comparison of different datasets.\n",
        "\n",
        "Significance of Central Tendency:\n",
        "Summarization: They provide a concise overview of a dataset's central location.\n",
        "\n",
        "Comparison: They allow for easy comparison of different datasets by representing their \"typical\" values.\n",
        "Decision-Making: In various fields, including business and research, these measures help in making informed decisions based on data analysis.\n",
        "\n",
        "Data Description: They help describe the general nature of a dataset's distribution.\n",
        "\n",
        "Foundation for Further Analysis: They are the basis for more advanced statistical analyses."
      ],
      "metadata": {
        "id": "QPNiQHmuXPC8"
      }
    },
    {
      "cell_type": "markdown",
      "source": [
        "# What is variance, and how is it calculated\n",
        "\n",
        "> Variance is a statistical measure that quantifies the spread or dispersion of data points in a dataset. It indicates how much the individual values in a dataset deviate from the mean (average) value. A higher variance means the data points are more spread out, while a lower variance indicates they are clustered closer to the mean.\n",
        "\n",
        "Calculation:\n",
        "Calculate the mean: Sum all the values in the dataset and divide by the number of values.\n",
        "Find the difference from the mean: Subtract the mean from each individual value in the dataset. [2-5=-3, 5-5=0, 8-5=3]\n",
        "\n",
        "Square the differences: Square each of the differences calculated in the previous step. [(-3)^2=9, 0^2=0, 3^2=9]\n",
        "\n",
        "Sum the squared differences: Add up all the squared differences. [9+0+9=18]\n",
        "\n",
        "Divide by (n-1): For a sample variance, divide the sum of squared differences by the number of values minus one (n-1). For population variance, divide by the total number of values (N). [18/ (3-1) ="
      ],
      "metadata": {
        "id": "J-nl2JogYfB6"
      }
    },
    {
      "cell_type": "markdown",
      "source": [
        "#  What is standard deviation, and why is it important\n",
        "\n",
        "> Standard deviation is a statistical measure that quantifies the amount of variation or dispersion of a set of data values around its mean (average). A low standard deviation indicates that the data points tend to be very close to the mean, while a high standard deviation indicates that the data points are spread out over a wider range of values. It's crucial for understanding data reliability and risk, especially in fields like finance and quality control."
      ],
      "metadata": {
        "id": "hiyMDBmIZPuc"
      }
    },
    {
      "cell_type": "markdown",
      "source": [
        "# Define and explain the term range in statisics\n",
        "\n",
        "> In statistics, the range is a simple measure of variability that represents the difference between the highest and lowest values in a dataset. It provides a quick overview of the spread or dispersion of the data.\n"
      ],
      "metadata": {
        "id": "Fq-_GVqzZvSx"
      }
    },
    {
      "cell_type": "markdown",
      "source": [
        "#  What is the difference between variance and standard deviation\n",
        "\n",
        "* Variance:\n",
        "Measures the average degree to which each point in a data set differs from the mean.\n",
        "Calculated by squaring the differences between each data point and the mean, summing these squared differences, and then dividing by the number of data points (or number of data points minus one for a sample).\n",
        "Results in a value expressed in squared units, which can make it difficult to interpret directly.\n",
        "\n",
        "* Standard Deviation:\n",
        "The square root of the variance.\n",
        "Represents the typical distance of data points from the mean.\n",
        "Expressed in the same units as the original data, making it more intuitive to understand the spread of the data.\n"
      ],
      "metadata": {
        "id": "XB8PLiXYaVUv"
      }
    },
    {
      "cell_type": "markdown",
      "source": [
        "# What is skewness in a dataset\n",
        "\n",
        "> Skewness in a dataset refers to the measure of its asymmetry, or the lack of symmetry, in its distribution. It indicates whether the data is more concentrated on one side of the mean compared to the other. A symmetric distribution, like a normal distribution, has a balanced, bell-shaped curve with the mean, median, and mode all equal. In contrast, skewed distributions have a longer tail on one side, either the left or the right, indicating that extreme values are present on that side.\n"
      ],
      "metadata": {
        "id": "P5bM4yYpu23x"
      }
    },
    {
      "cell_type": "markdown",
      "source": [
        "# What does it mean if a dataset is positively or negatively skewed\n",
        "\n",
        "> Positive Skew (Right Skew):\n",
        "The majority of the data points are clustered towards the lower end of the scale.\n",
        "There are a few extremely high values that pull the mean (average) to the right, making it greater than the median (the middle value).\n",
        "Think of income distribution: most people earn in the lower to middle range, with a few high earners skewing the average.\n",
        "\n",
        " * Negative Skew (Left Skew):\n",
        "The majority of the data points are clustered towards the higher end of the scale.\n",
        "There are a few extremely low values that pull the mean to the left, making it smaller than the median.\n",
        "An example might be the distribution of exam scores where most students did well, but a few scored very low.\n",
        "\n"
      ],
      "metadata": {
        "id": "npA-HjbVvfjh"
      }
    },
    {
      "cell_type": "markdown",
      "source": [
        "#  Define and explain kurtosis\n",
        "\n",
        "> Kurtosis is a statistical measure that describes the shape of a probability distribution, specifically the \"peakedness\" or \"tailedness\" of the distribution relative to a normal distribution. It indicates how much the data is concentrated around the mean (peak) and in the tails of the distribution."
      ],
      "metadata": {
        "id": "uIUFe4SWvx4m"
      }
    },
    {
      "cell_type": "markdown",
      "source": [
        "# What is the purpose of covariance\n",
        "\n",
        ". The purpose of covariance is to measure the degree to which two variables change together. It indicates whether two variables tend to increase or decrease simultaneously (positive covariance) or if one tends to increase as the other decreases (negative covariance). Covariance helps understand the direction of the relationship between variables, but it doesn't measure the strength of that relationship."
      ],
      "metadata": {
        "id": "h9-e-ifpwIPk"
      }
    },
    {
      "cell_type": "markdown",
      "source": [
        "#  What does correlation measure in statistics\n",
        "\n",
        "> In statistics, correlation measures the strength and direction of a relationship between two or more variables. It indicates how closely the variables change together, either in the same direction (positive correlation) or in opposite directions (negative correlation). Importantly, correlation does not imply causation; just because two variables are correlated does not mean one causes the other.\n"
      ],
      "metadata": {
        "id": "-Ja-LuuDwVtt"
      }
    },
    {
      "cell_type": "markdown",
      "source": [
        "# What is the difference between covariance and correlation\n",
        "\n",
        "> Covariance:\n",
        "Definition: Measures the extent to which two variables change together. A positive covariance indicates that when one variable increases, the other tends to increase as well, and vice versa for negative covariance.\n",
        "Range: Can range from negative infinity to positive infinity (-∞ to +∞).\n",
        "\n",
        "Limitations: Covariance is affected by the scale of the variables. If you change the units of measurement (e.g., from kilograms to grams), the covariance value will change.\n",
        "\n",
        "* Correlation:\n",
        "Definition: A standardized measure of the linear relationship between two variables. It not only indicates the direction of the relationship (positive or negative) but also its strength.\n",
        "Range: Always falls between -1 and +1 (-1 to +1).\n",
        "\n",
        "Benefits: Correlation is easier to interpret than covariance because it is standardized. A correlation of +1 indicates a perfect positive linear relationship, -1 indicates a perfect negative linear relationship, and 0 indicates no linear relationship.\n",
        "Scale-independent: Correlation is not affected by changes in the scale of the variables."
      ],
      "metadata": {
        "id": "OmYaokCewsnh"
      }
    },
    {
      "cell_type": "markdown",
      "source": [
        "# What are some real-world applications of statistics?\n",
        "\n",
        "Statistics are used in a wide variety of fields to analyze data, identify trends, and make informed decisions.\n",
        "Some examples include:\n",
        "\n",
        "Business:\n",
        "Analyzing sales data, market trends, and customer behavior.\n",
        "\n",
        "Healthcare:\n",
        "Conducting clinical trials, analyzing patient data, and understanding disease patterns.\n",
        "\n",
        "Finance:\n",
        "Assessing investment risks, predicting market fluctuations, and developing financial models.\n",
        "\n",
        "Government:\n",
        "Analyzing census data, tracking crime rates, and evaluating the effectiveness of policies.\n",
        "\n",
        "Education:\n",
        "Evaluating student performance, determining the effectiveness of teaching methods, and tracking graduation rates.\n",
        "\n",
        "Sports:\n",
        "Analyzing player statistics, predicting game outcomes, and evaluating team performance.\n",
        "\n",
        "Environmental Science:\n",
        "Monitoring pollution levels, tracking climate change trends, and assessing the impact of natural disasters.\n",
        "In addition, statistics are used in many other fields, including:\n",
        "Quality Control:\n",
        "Monitoring manufacturing processes, identifying defects, and ensuring product quality.\n",
        "\n",
        "Market Research:\n",
        "Identifying consumer preferences, understanding market segments, and developing marketing strategies.\n",
        "\n",
        "Insurance:\n",
        "Assessing risk, determining premiums, and managing claims.\n",
        "\n",
        "Sociology and Psychology:\n",
        "Analyzing survey data, understanding social trends, and researching human behavior."
      ],
      "metadata": {
        "id": "uyH3xd6vxISm"
      }
    },
    {
      "cell_type": "markdown",
      "source": [
        "# Practical"
      ],
      "metadata": {
        "id": "2xBVBuEiyFMv"
      }
    },
    {
      "cell_type": "code",
      "source": [
        "# How do you calculate the mean, median, and mode of a dataset"
      ],
      "metadata": {
        "id": "ZTEXLqeWyJkg"
      },
      "execution_count": null,
      "outputs": []
    },
    {
      "cell_type": "code",
      "source": [
        "\n"
      ],
      "metadata": {
        "id": "iJg_otkcx_VL"
      },
      "execution_count": 1,
      "outputs": []
    },
    {
      "cell_type": "markdown",
      "source": [],
      "metadata": {
        "id": "e_dsKbaExwfL"
      }
    },
    {
      "cell_type": "code",
      "execution_count": null,
      "metadata": {
        "id": "HmYF_uKNCFl_"
      },
      "outputs": [],
      "source": []
    },
    {
      "cell_type": "code",
      "metadata": {
        "colab": {
          "base_uri": "https://localhost:8080/",
          "height": 216
        },
        "id": "65a900b4",
        "outputId": "bbcd5fd2-5de2-40b6-a302-f3e746bee8d3"
      },
      "source": [
        "import numpy as np\n",
        "from scipy import stats\n",
        "\n",
        "# Create a sample dataset\n",
        "data = [1, 2, 3, 4, 5, 6, 7, 8, 9, 10, 10]\n",
        "\n",
        "# Calculate the mean\n",
        "mean = np.mean(data)\n",
        "print(f\"Mean: {mean}\")\n",
        "\n",
        "# Calculate the median\n",
        "median = np.median(data)\n",
        "print(f\"Median: {median}\")\n",
        "\n",
        "# Calculate the mode\n",
        "mode = stats.mode(data)\n",
        "print(f\"Mode: {mode.mode[0]}\")"
      ],
      "execution_count": 2,
      "outputs": [
        {
          "output_type": "stream",
          "name": "stdout",
          "text": [
            "Mean: 5.909090909090909\n",
            "Median: 6.0\n"
          ]
        },
        {
          "output_type": "error",
          "ename": "IndexError",
          "evalue": "invalid index to scalar variable.",
          "traceback": [
            "\u001b[0;31m---------------------------------------------------------------------------\u001b[0m",
            "\u001b[0;31mIndexError\u001b[0m                                Traceback (most recent call last)",
            "\u001b[0;32m/tmp/ipython-input-2-818683888.py\u001b[0m in \u001b[0;36m<cell line: 0>\u001b[0;34m()\u001b[0m\n\u001b[1;32m     15\u001b[0m \u001b[0;31m# Calculate the mode\u001b[0m\u001b[0;34m\u001b[0m\u001b[0;34m\u001b[0m\u001b[0m\n\u001b[1;32m     16\u001b[0m \u001b[0mmode\u001b[0m \u001b[0;34m=\u001b[0m \u001b[0mstats\u001b[0m\u001b[0;34m.\u001b[0m\u001b[0mmode\u001b[0m\u001b[0;34m(\u001b[0m\u001b[0mdata\u001b[0m\u001b[0;34m)\u001b[0m\u001b[0;34m\u001b[0m\u001b[0;34m\u001b[0m\u001b[0m\n\u001b[0;32m---> 17\u001b[0;31m \u001b[0mprint\u001b[0m\u001b[0;34m(\u001b[0m\u001b[0;34mf\"Mode: {mode.mode[0]}\"\u001b[0m\u001b[0;34m)\u001b[0m\u001b[0;34m\u001b[0m\u001b[0;34m\u001b[0m\u001b[0m\n\u001b[0m",
            "\u001b[0;31mIndexError\u001b[0m: invalid index to scalar variable."
          ]
        }
      ]
    },
    {
      "cell_type": "code",
      "source": [
        "# Write a Python program to compute the variance and standard deviation of a dataset"
      ],
      "metadata": {
        "id": "EDW8QCQgydKX"
      },
      "execution_count": null,
      "outputs": []
    },
    {
      "cell_type": "code",
      "metadata": {
        "colab": {
          "base_uri": "https://localhost:8080/"
        },
        "id": "933f947d",
        "outputId": "038d4669-11e0-43c4-ff04-fd0c3a9d4bc4"
      },
      "source": [
        "import numpy as np\n",
        "\n",
        "# Create a sample dataset\n",
        "data = [1, 2, 3, 4, 5, 6, 7, 8, 9, 10, 10]\n",
        "\n",
        "# Calculate the variance\n",
        "variance = np.var(data)\n",
        "print(f\"Variance: {variance}\")\n",
        "\n",
        "# Calculate the standard deviation\n",
        "std_deviation = np.std(data)\n",
        "print(f\"Standard Deviation: {std_deviation}\")"
      ],
      "execution_count": 3,
      "outputs": [
        {
          "output_type": "stream",
          "name": "stdout",
          "text": [
            "Variance: 9.173553719008265\n",
            "Standard Deviation: 3.0287874998104876\n"
          ]
        }
      ]
    },
    {
      "cell_type": "code",
      "source": [
        "# Create a dataset and classify it into nominal, ordinal, interval, and ratio types5"
      ],
      "metadata": {
        "id": "vhb8zB_nyp7F"
      },
      "execution_count": null,
      "outputs": []
    },
    {
      "cell_type": "code",
      "metadata": {
        "colab": {
          "base_uri": "https://localhost:8080/"
        },
        "id": "59ef74f5",
        "outputId": "d4190a13-dc9f-4c03-8393-db6af2496b60"
      },
      "source": [
        "import pandas as pd\n",
        "\n",
        "# Create a dictionary to hold the data\n",
        "data = {\n",
        "    'Nominal': ['Red', 'Blue', 'Green', 'Red', 'Blue'],\n",
        "    'Ordinal': ['Small', 'Medium', 'Large', 'Medium', 'Small'],\n",
        "    'Interval': [10, 20, 30, 40, 50], # e.g., Temperature in Celsius\n",
        "    'Ratio': [5, 10, 15, 20, 25] # e.g., Height in cm\n",
        "}\n",
        "\n",
        "# Create a pandas DataFrame\n",
        "df = pd.DataFrame(data)\n",
        "\n",
        "# Print the DataFrame\n",
        "print(\"Dataset:\")\n",
        "print(df)\n",
        "\n",
        "# Classify the data types\n",
        "print(\"\\nData Classification:\")\n",
        "print(df.dtypes)\n",
        "\n",
        "# Manually describe the levels of measurement for clarity\n",
        "print(\"\\nLevels of Measurement:\")\n",
        "print(\"Nominal: Categories without order (e.g., Colors)\")\n",
        "print(\"Ordinal: Categories with order but unequal intervals (e.g., Sizes)\")\n",
        "print(\"Interval: Ordered data with equal intervals but no true zero (e.g., Temperature in Celsius)\")\n",
        "print(\"Ratio: Ordered data with equal intervals and a true zero (e.g., Height in cm)\")"
      ],
      "execution_count": 4,
      "outputs": [
        {
          "output_type": "stream",
          "name": "stdout",
          "text": [
            "Dataset:\n",
            "  Nominal Ordinal  Interval  Ratio\n",
            "0     Red   Small        10      5\n",
            "1    Blue  Medium        20     10\n",
            "2   Green   Large        30     15\n",
            "3     Red  Medium        40     20\n",
            "4    Blue   Small        50     25\n",
            "\n",
            "Data Classification:\n",
            "Nominal     object\n",
            "Ordinal     object\n",
            "Interval     int64\n",
            "Ratio        int64\n",
            "dtype: object\n",
            "\n",
            "Levels of Measurement:\n",
            "Nominal: Categories without order (e.g., Colors)\n",
            "Ordinal: Categories with order but unequal intervals (e.g., Sizes)\n",
            "Interval: Ordered data with equal intervals but no true zero (e.g., Temperature in Celsius)\n",
            "Ratio: Ordered data with equal intervals and a true zero (e.g., Height in cm)\n"
          ]
        }
      ]
    },
    {
      "cell_type": "code",
      "source": [
        "# Implement sampling techniques like random sampling and stratified sampling"
      ],
      "metadata": {
        "id": "Y3vpPujvy2ur"
      },
      "execution_count": null,
      "outputs": []
    },
    {
      "cell_type": "code",
      "metadata": {
        "colab": {
          "base_uri": "https://localhost:8080/"
        },
        "id": "76095a19",
        "outputId": "8367a612-16aa-49ee-ef4c-23cbd0f0cf14"
      },
      "source": [
        "import pandas as pd\n",
        "from sklearn.model_selection import train_test_split\n",
        "\n",
        "# Create a sample dataset\n",
        "data = {'Category': ['A', 'B', 'A', 'C', 'B', 'A', 'C', 'A', 'B', 'C'],\n",
        "        'Value': [10, 20, 15, 25, 30, 12, 28, 18, 22, 26]}\n",
        "df = pd.DataFrame(data)\n",
        "\n",
        "print(\"Original Dataset:\")\n",
        "print(df)\n",
        "\n",
        "# Random Sampling\n",
        "random_sample = df.sample(n=5, random_state=42)\n",
        "print(\"\\nRandom Sample (n=5):\")\n",
        "print(random_sample)\n",
        "\n",
        "# Stratified Sampling\n",
        "# In this example, we stratify by 'Category' to ensure representation from each category\n",
        "stratified_sample, _ = train_test_split(df, test_size=0.5, stratify=df['Category'], random_state=42)\n",
        "print(\"\\nStratified Sample (50% of data, stratified by 'Category'):\")\n",
        "print(stratified_sample)"
      ],
      "execution_count": 5,
      "outputs": [
        {
          "output_type": "stream",
          "name": "stdout",
          "text": [
            "Original Dataset:\n",
            "  Category  Value\n",
            "0        A     10\n",
            "1        B     20\n",
            "2        A     15\n",
            "3        C     25\n",
            "4        B     30\n",
            "5        A     12\n",
            "6        C     28\n",
            "7        A     18\n",
            "8        B     22\n",
            "9        C     26\n",
            "\n",
            "Random Sample (n=5):\n",
            "  Category  Value\n",
            "8        B     22\n",
            "1        B     20\n",
            "5        A     12\n",
            "0        A     10\n",
            "7        A     18\n",
            "\n",
            "Stratified Sample (50% of data, stratified by 'Category'):\n",
            "  Category  Value\n",
            "9        C     26\n",
            "2        A     15\n",
            "6        C     28\n",
            "1        B     20\n",
            "5        A     12\n"
          ]
        }
      ]
    },
    {
      "cell_type": "code",
      "source": [
        "# Write a Python function to calculate the range of a dataset"
      ],
      "metadata": {
        "id": "8bTvS57IzKGt"
      },
      "execution_count": null,
      "outputs": []
    },
    {
      "cell_type": "code",
      "metadata": {
        "colab": {
          "base_uri": "https://localhost:8080/"
        },
        "id": "498babc0",
        "outputId": "fb6b5731-4f0a-4019-bfa9-9908eb5e772e"
      },
      "source": [
        "def calculate_range(data):\n",
        "  \"\"\"\n",
        "  Calculates the range of a dataset.\n",
        "\n",
        "  Args:\n",
        "    data: A list or array of numerical data.\n",
        "\n",
        "  Returns:\n",
        "    The range of the dataset (maximum value - minimum value).\n",
        "  \"\"\"\n",
        "  if not data:\n",
        "    return None  # Handle empty dataset\n",
        "\n",
        "  max_value = max(data)\n",
        "  min_value = min(data)\n",
        "  return max_value - min_value\n",
        "\n",
        "# Create a sample dataset\n",
        "data = [1, 5, 2, 8, 3, 10, 4, 6, 7, 9]\n",
        "\n",
        "# Calculate the range\n",
        "data_range = calculate_range(data)\n",
        "\n",
        "print(f\"Dataset: {data}\")\n",
        "print(f\"Range: {data_range}\")"
      ],
      "execution_count": 6,
      "outputs": [
        {
          "output_type": "stream",
          "name": "stdout",
          "text": [
            "Dataset: [1, 5, 2, 8, 3, 10, 4, 6, 7, 9]\n",
            "Range: 9\n"
          ]
        }
      ]
    },
    {
      "cell_type": "code",
      "source": [
        "#  Create a dataset and plot its histogram to visualize skewness"
      ],
      "metadata": {
        "id": "hO-NOvHvzZI-"
      },
      "execution_count": null,
      "outputs": []
    },
    {
      "cell_type": "code",
      "source": [],
      "metadata": {
        "id": "WHe1UTYZzr2N"
      },
      "execution_count": null,
      "outputs": []
    },
    {
      "cell_type": "code",
      "metadata": {
        "colab": {
          "base_uri": "https://localhost:8080/",
          "height": 472
        },
        "id": "c5af2d9f",
        "outputId": "6c5b8775-5cae-4dfb-92a6-078370edc1cc"
      },
      "source": [
        "import matplotlib.pyplot as plt\n",
        "import numpy as np\n",
        "\n",
        "# Create a sample dataset with a positive skew\n",
        "data = np.random.exponential(scale=2.0, size=1000)\n",
        "\n",
        "# Create a histogram\n",
        "plt.hist(data, bins=30, density=True, alpha=0.7, color='skyblue')\n",
        "\n",
        "# Add titles and labels\n",
        "plt.title('Histogram to Visualize Skewness (Positive Skew)')\n",
        "plt.xlabel('Value')\n",
        "plt.ylabel('Frequency')\n",
        "\n",
        "# Show the plot\n",
        "plt.show()"
      ],
      "execution_count": 7,
      "outputs": [
        {
          "output_type": "display_data",
          "data": {
            "text/plain": [
              "<Figure size 640x480 with 1 Axes>"
            ],
            "image/png": "[encoded data removed]"
          },
          "metadata": {}
        }
      ]
    },
    {
      "cell_type": "code",
      "source": [
        "# Calculate skewness and kurtosis of a dataset using Python libraries"
      ],
      "metadata": {
        "id": "2tWQlhWEzs9k"
      },
      "execution_count": null,
      "outputs": []
    },
    {
      "cell_type": "code",
      "metadata": {
        "colab": {
          "base_uri": "https://localhost:8080/"
        },
        "id": "b0bf03c8",
        "outputId": "8215c1b9-b762-4ad6-a4be-c52622e95454"
      },
      "source": [
        "import numpy as np\n",
        "from scipy.stats import skew, kurtosis\n",
        "\n",
        "# Create a sample dataset\n",
        "data = [1, 2, 3, 4, 5, 6, 7, 8, 9, 10, 10]\n",
        "\n",
        "# Calculate skewness\n",
        "skewness = skew(data)\n",
        "print(f\"Skewness: {skewness}\")\n",
        "\n",
        "# Calculate kurtosis\n",
        "kurtosis_value = kurtosis(data)\n",
        "print(f\"Kurtosis: {kurtosis_value}\")"
      ],
      "execution_count": 8,
      "outputs": [
        {
          "output_type": "stream",
          "name": "stdout",
          "text": [
            "Skewness: -0.10951423027072257\n",
            "Kurtosis: -1.3020063306549794\n"
          ]
        }
      ]
    },
    {
      "cell_type": "code",
      "source": [
        "# Generate a dataset and demonstrate positive and negative skewness"
      ],
      "metadata": {
        "id": "38xNmJtoz7ix"
      },
      "execution_count": null,
      "outputs": []
    },
    {
      "cell_type": "code",
      "metadata": {
        "colab": {
          "base_uri": "https://localhost:8080/",
          "height": 283
        },
        "id": "dae5024f",
        "outputId": "1d400da4-e915-433d-e0a7-3273d69575d4"
      },
      "source": [
        "import matplotlib.pyplot as plt\n",
        "import numpy as np\n",
        "import seaborn as sns\n",
        "\n",
        "# Generate a dataset with positive skew (right skew)\n",
        "# Using an exponential distribution as an example\n",
        "positive_skew_data = np.random.exponential(scale=1.0, size=1000)\n",
        "\n",
        "# Generate a dataset with negative skew (left skew)\n",
        "# Using the difference of two exponential distributions as an example\n",
        "negative_skew_data = -np.random.exponential(scale=1.0, size=1000) + 5 # Adding a constant to shift the distribution\n",
        "\n",
        "# Plotting the histograms\n",
        "plt.figure(figsize=(12, 5))\n",
        "\n",
        "plt.subplot(1, 2, 1)\n",
        "sns.histplot(positive_skew_data, kde=True, color='skyblue')\n",
        "plt.title('Dataset with Positive Skew')\n",
        "plt.xlabel('Value')\n",
        "plt.ylabel('Frequency')\n",
        "\n",
        "plt.subplot(1, 2, 2)\n",
        "sns.histplot(negative_skew_data, kde=True, color='salmon')\n",
        "plt.title('Dataset with Negative Skew')\n",
        "plt.xlabel('Value')\n",
        "plt.ylabel('Frequency')\n",
        "\n",
        "plt.tight_layout()\n",
        "plt.show()"
      ],
      "execution_count": 9,
      "outputs": [
        {
          "output_type": "display_data",
          "data": {
            "text/plain": [
              "<Figure size 1200x500 with 2 Axes>"
            ],
            "image/png": "[encoded data removed]"
          },
          "metadata": {}
        }
      ]
    },
    {
      "cell_type": "code",
      "source": [
        "# Write a Python script to calculate covariance between two datasets"
      ],
      "metadata": {
        "id": "ncF4W6Fm0MIA"
      },
      "execution_count": null,
      "outputs": []
    },
    {
      "cell_type": "code",
      "metadata": {
        "colab": {
          "base_uri": "https://localhost:8080/"
        },
        "id": "936771b6",
        "outputId": "52457420-07a6-4a31-db55-4102fff905e9"
      },
      "source": [
        "import numpy as np\n",
        "\n",
        "# Create two sample datasets\n",
        "dataset1 = [1, 2, 3, 4, 5]\n",
        "dataset2 = [5, 4, 3, 2, 1]\n",
        "\n",
        "# Calculate the covariance\n",
        "covariance = np.cov(dataset1, dataset2)[0][1]\n",
        "\n",
        "print(f\"Dataset 1: {dataset1}\")\n",
        "print(f\"Dataset 2: {dataset2}\")\n",
        "print(f\"Covariance: {covariance}\")"
      ],
      "execution_count": 10,
      "outputs": [
        {
          "output_type": "stream",
          "name": "stdout",
          "text": [
            "Dataset 1: [1, 2, 3, 4, 5]\n",
            "Dataset 2: [5, 4, 3, 2, 1]\n",
            "Covariance: -2.5\n"
          ]
        }
      ]
    },
    {
      "cell_type": "code",
      "source": [
        "# Write a Python script to calculate the correlation coefficient between two datasets"
      ],
      "metadata": {
        "id": "QvwNQ3Xu0YPt"
      },
      "execution_count": null,
      "outputs": []
    },
    {
      "cell_type": "code",
      "metadata": {
        "colab": {
          "base_uri": "https://localhost:8080/"
        },
        "id": "7d289490",
        "outputId": "cc736137-c17c-4d9f-8bab-ebd4d6b9fd12"
      },
      "source": [
        "import numpy as np\n",
        "\n",
        "# Create two sample datasets\n",
        "dataset1 = [1, 2, 3, 4, 5]\n",
        "dataset2 = [5, 4, 3, 2, 1]\n",
        "\n",
        "# Calculate the correlation coefficient\n",
        "correlation_coefficient = np.corrcoef(dataset1, dataset2)[0][1]\n",
        "\n",
        "print(f\"Dataset 1: {dataset1}\")\n",
        "print(f\"Dataset 2: {dataset2}\")\n",
        "print(f\"Correlation Coefficient: {correlation_coefficient}\")"
      ],
      "execution_count": 11,
      "outputs": [
        {
          "output_type": "stream",
          "name": "stdout",
          "text": [
            "Dataset 1: [1, 2, 3, 4, 5]\n",
            "Dataset 2: [5, 4, 3, 2, 1]\n",
            "Correlation Coefficient: -0.9999999999999999\n"
          ]
        }
      ]
    },
    {
      "cell_type": "code",
      "source": [
        "# Create a scatter plot to visualize the relationship between two variables"
      ],
      "metadata": {
        "id": "abZjmZaL0jVB"
      },
      "execution_count": null,
      "outputs": []
    },
    {
      "cell_type": "code",
      "metadata": {
        "colab": {
          "base_uri": "https://localhost:8080/",
          "height": 472
        },
        "id": "c2d59415",
        "outputId": "de0af32a-2ef3-4b26-80d7-3e69c13e67d1"
      },
      "source": [
        "import matplotlib.pyplot as plt\n",
        "import numpy as np\n",
        "\n",
        "# Create two sample datasets\n",
        "dataset1 = [1, 2, 3, 4, 5]\n",
        "dataset2 = [5, 4, 3, 2, 1]\n",
        "\n",
        "# Create a scatter plot\n",
        "plt.scatter(dataset1, dataset2)\n",
        "\n",
        "# Add titles and labels\n",
        "plt.title('Scatter Plot of Two Variables')\n",
        "plt.xlabel('Dataset 1')\n",
        "plt.ylabel('Dataset 2')\n",
        "\n",
        "# Show the plot\n",
        "plt.show()"
      ],
      "execution_count": 12,
      "outputs": [
        {
          "output_type": "display_data",
          "data": {
            "text/plain": [
              "<Figure size 640x480 with 1 Axes>"
            ],
            "image/png": "[encoded data removed]"
          },
          "metadata": {}
        }
      ]
    },
    {
      "cell_type": "code",
      "source": [
        "# Implement and compare simple random sampling and systematic sampling"
      ],
      "metadata": {
        "id": "Fr1LDk7t00oa"
      },
      "execution_count": null,
      "outputs": []
    },
    {
      "cell_type": "code",
      "metadata": {
        "colab": {
          "base_uri": "https://localhost:8080/"
        },
        "id": "da02d85f",
        "outputId": "36cd4572-3800-493e-8766-a38276b80c24"
      },
      "source": [
        "import pandas as pd\n",
        "import numpy as np\n",
        "\n",
        "# Create a sample dataset\n",
        "data = {'ID': range(1, 101),\n",
        "        'Value': np.random.randint(1, 100, 100)}\n",
        "df = pd.DataFrame(data)\n",
        "\n",
        "print(\"Original Dataset (first 5 rows):\")\n",
        "print(df.head())\n",
        "\n",
        "# Simple Random Sampling\n",
        "simple_random_sample = df.sample(n=10, random_state=42)\n",
        "print(\"\\nSimple Random Sample (n=10):\")\n",
        "print(simple_random_sample)\n",
        "\n",
        "# Systematic Sampling\n",
        "# Define the sampling interval (k)\n",
        "k = 10\n",
        "\n",
        "# Choose a random starting point\n",
        "start_index = np.random.randint(0, k)\n",
        "\n",
        "# Select elements at regular intervals\n",
        "systematic_sample = df.iloc[start_index::k]\n",
        "print(f\"\\nSystematic Sample (k={k}, starting from index {start_index}):\")\n",
        "print(systematic_sample)"
      ],
      "execution_count": 13,
      "outputs": [
        {
          "output_type": "stream",
          "name": "stdout",
          "text": [
            "Original Dataset (first 5 rows):\n",
            "   ID  Value\n",
            "0   1     73\n",
            "1   2     43\n",
            "2   3     69\n",
            "3   4     72\n",
            "4   5      5\n",
            "\n",
            "Simple Random Sample (n=10):\n",
            "    ID  Value\n",
            "83  84     26\n",
            "53  54     28\n",
            "70  71     55\n",
            "45  46     46\n",
            "44  45     74\n",
            "39  40     78\n",
            "22  23     13\n",
            "80  81     87\n",
            "10  11     49\n",
            "0    1     73\n",
            "\n",
            "Systematic Sample (k=10, starting from index 8):\n",
            "    ID  Value\n",
            "8    9     11\n",
            "18  19     84\n",
            "28  29      2\n",
            "38  39     60\n",
            "48  49     29\n",
            "58  59     54\n",
            "68  69     22\n",
            "78  79     40\n",
            "88  89     21\n",
            "98  99     94\n"
          ]
        }
      ]
    },
    {
      "cell_type": "code",
      "source": [
        "# Calculate the mean, median, and mode of grouped data"
      ],
      "metadata": {
        "id": "n5RIHWbC1Cd_"
      },
      "execution_count": null,
      "outputs": []
    },
    {
      "cell_type": "code",
      "metadata": {
        "colab": {
          "base_uri": "https://localhost:8080/"
        },
        "id": "ea629658",
        "outputId": "e1279a5a-346e-4f4c-abf3-3f326ac41a26"
      },
      "source": [
        "import pandas as pd\n",
        "import numpy as np\n",
        "from scipy import stats\n",
        "\n",
        "# Create a sample grouped dataset\n",
        "data = {'Range': ['0-10', '10-20', '20-30', '30-40', '40-50'],\n",
        "        'Frequency': [5, 10, 15, 10, 5]}\n",
        "df_grouped = pd.DataFrame(data)\n",
        "\n",
        "print(\"Grouped Dataset:\")\n",
        "print(df_grouped)\n",
        "\n",
        "# To calculate mean, median, and mode for grouped data, we typically use formulas\n",
        "# that consider the frequency of each group. This requires more complex calculations\n",
        "# than for ungrouped data and often involves making assumptions about the distribution\n",
        "# within each group (e.g., assuming the midpoint represents the values in the range).\n",
        "\n",
        "# Mean of grouped data (approximate)\n",
        "# We'll use the midpoint of each range\n",
        "midpoints = [5, 15, 25, 35, 45]\n",
        "df_grouped['Midpoint'] = midpoints\n",
        "df_grouped['Midpoint * Frequency'] = df_grouped['Midpoint'] * df_grouped['Frequency']\n",
        "mean_grouped = df_grouped['Midpoint * Frequency'].sum() / df_grouped['Frequency'].sum()\n",
        "print(f\"\\nApproximate Mean of Grouped Data: {mean_grouped}\")\n",
        "\n",
        "# Median of grouped data (approximate)\n",
        "# Find the cumulative frequency\n",
        "df_grouped['Cumulative Frequency'] = df_grouped['Frequency'].cumsum()\n",
        "total_frequency = df_grouped['Frequency'].sum()\n",
        "median_class_index = df_grouped[df_grouped['Cumulative Frequency'] >= total_frequency / 2].index[0]\n",
        "median_class = df_grouped.loc[median_class_index]\n",
        "\n",
        "L = int(median_class['Range'].split('-')[0]) # Lower boundary of median class\n",
        "n = total_frequency\n",
        "cf_p = df_grouped.loc[median_class_index - 1, 'Cumulative Frequency'] if median_class_index > 0 else 0 # Cumulative frequency of the class preceding the median class\n",
        "f = median_class['Frequency'] # Frequency of the median class\n",
        "w = int(median_class['Range'].split('-')[1]) - L # Width of the median class\n",
        "\n",
        "median_grouped = L + ((n/2 - cf_p) / f) * w\n",
        "print(f\"Approximate Median of Grouped Data: {median_grouped}\")\n",
        "\n",
        "\n",
        "# Mode of grouped data (approximate)\n",
        "# The mode class is the class with the highest frequency\n",
        "mode_class_index = df_grouped['Frequency'].idxmax()\n",
        "mode_class = df_grouped.loc[mode_class_index]\n",
        "\n",
        "L_mode = int(mode_class['Range'].split('-')[0]) # Lower boundary of mode class\n",
        "f_m = mode_class['Frequency'] # Frequency of the mode class\n",
        "f_1 = df_grouped.loc[mode_class_index - 1, 'Frequency'] if mode_class_index > 0 else 0 # Frequency of the preceding class\n",
        "f_2 = df_grouped.loc[mode_class_index + 1, 'Frequency'] if mode_class_index < len(df_grouped) - 1 else 0 # Frequency of the succeeding class\n",
        "w_mode = int(mode_class['Range'].split('-')[1]) - L_mode # Width of the mode class\n",
        "\n",
        "mode_grouped = L_mode + ((f_m - f_1) / (2*f_m - f_1 - f_2)) * w_mode\n",
        "print(f\"Approximate Mode of Grouped Data: {mode_grouped}\")"
      ],
      "execution_count": 14,
      "outputs": [
        {
          "output_type": "stream",
          "name": "stdout",
          "text": [
            "Grouped Dataset:\n",
            "   Range  Frequency\n",
            "0   0-10          5\n",
            "1  10-20         10\n",
            "2  20-30         15\n",
            "3  30-40         10\n",
            "4  40-50          5\n",
            "\n",
            "Approximate Mean of Grouped Data: 25.0\n",
            "Approximate Median of Grouped Data: 25.0\n",
            "Approximate Mode of Grouped Data: 25.0\n"
          ]
        }
      ]
    },
    {
      "cell_type": "code",
      "source": [
        "#  Simulate data using Python and calculate its central tendency and dispersion."
      ],
      "metadata": {
        "id": "o8Xvo5OY1aEW"
      },
      "execution_count": null,
      "outputs": []
    },
    {
      "cell_type": "code",
      "metadata": {
        "colab": {
          "base_uri": "https://localhost:8080/"
        },
        "id": "186f6e72",
        "outputId": "82177488-b50c-408e-e233-5410c84f374a"
      },
      "source": [
        "import numpy as np\n",
        "\n",
        "# Simulate a dataset\n",
        "data = np.random.normal(loc=50, scale=10, size=100) # Normally distributed data with mean 50 and standard deviation 10\n",
        "\n",
        "# Calculate measures of central tendency\n",
        "mean = np.mean(data)\n",
        "median = np.median(data)\n",
        "\n",
        "# Calculate measures of dispersion\n",
        "variance = np.var(data)\n",
        "std_deviation = np.std(data)\n",
        "data_range = np.max(data) - np.min(data)\n",
        "\n",
        "print(f\"Simulated Dataset (first 10 values): {data[:10]}\")\n",
        "print(f\"\\nMeasures of Central Tendency:\")\n",
        "print(f\"Mean: {mean}\")\n",
        "print(f\"Median: {median}\")\n",
        "\n",
        "print(f\"\\nMeasures of Dispersion:\")\n",
        "print(f\"Variance: {variance}\")\n",
        "print(f\"Standard Deviation: {std_deviation}\")\n",
        "print(f\"Range: {data_range}\")"
      ],
      "execution_count": 15,
      "outputs": [
        {
          "output_type": "stream",
          "name": "stdout",
          "text": [
            "Simulated Dataset (first 10 values): [50.86672446 71.68272015 41.80618842 69.80611475 45.60395492 50.29999919\n",
            " 65.65337867 48.99501873 38.45348932 69.91388805]\n",
            "\n",
            "Measures of Central Tendency:\n",
            "Mean: 49.94376551162925\n",
            "Median: 48.549585762346155\n",
            "\n",
            "Measures of Dispersion:\n",
            "Variance: 122.12699059791866\n",
            "Standard Deviation: 11.051108116289456\n",
            "Range: 54.516388522579454\n"
          ]
        }
      ]
    },
    {
      "cell_type": "code",
      "source": [
        "# Use NumPy or pandas to summarize a dataset’s descriptive statistics"
      ],
      "metadata": {
        "id": "l3cQlU7s1suV"
      },
      "execution_count": null,
      "outputs": []
    },
    {
      "cell_type": "code",
      "metadata": {
        "colab": {
          "base_uri": "https://localhost:8080/"
        },
        "id": "03c75a26",
        "outputId": "d5e11b01-8063-4653-e4c1-c11f362f863d"
      },
      "source": [
        "import pandas as pd\n",
        "import numpy as np\n",
        "\n",
        "# Create a sample dataset\n",
        "data = {'Column1': np.random.rand(100),\n",
        "        'Column2': np.random.randint(1, 100, 100)}\n",
        "df = pd.DataFrame(data)\n",
        "\n",
        "print(\"Dataset:\")\n",
        "print(df.head())\n",
        "\n",
        "# Summarize descriptive statistics using pandas\n",
        "print(\"\\nDescriptive Statistics (pandas):\")\n",
        "print(df.describe())\n",
        "\n",
        "# Summarize descriptive statistics using numpy (for individual columns)\n",
        "print(\"\\nDescriptive Statistics (NumPy - Column1):\")\n",
        "print(f\"Mean: {np.mean(df['Column1'])}\")\n",
        "print(f\"Median: {np.median(df['Column1'])}\")\n",
        "print(f\"Standard Deviation: {np.std(df['Column1'])}\")\n",
        "print(f\"Variance: {np.var(df['Column1'])}\")\n",
        "print(f\"Min: {np.min(df['Column1'])}\")\n",
        "print(f\"Max: {np.max(df['Column1'])}\")"
      ],
      "execution_count": 16,
      "outputs": [
        {
          "output_type": "stream",
          "name": "stdout",
          "text": [
            "Dataset:\n",
            "    Column1  Column2\n",
            "0  0.165666       70\n",
            "1  0.196614        7\n",
            "2  0.444998       93\n",
            "3  0.814529       71\n",
            "4  0.442778        4\n",
            "\n",
            "Descriptive Statistics (pandas):\n",
            "          Column1     Column2\n",
            "count  100.000000  100.000000\n",
            "mean     0.499606   50.200000\n",
            "std      0.278188   28.413612\n",
            "min      0.003453    1.000000\n",
            "25%      0.278708   26.000000\n",
            "50%      0.501537   47.000000\n",
            "75%      0.718697   74.250000\n",
            "max      0.997397   99.000000\n",
            "\n",
            "Descriptive Statistics (NumPy - Column1):\n",
            "Mean: 0.4996061974936211\n",
            "Median: 0.501537233611205\n",
            "Standard Deviation: 0.276793385462089\n",
            "Variance: 0.07661457823556456\n",
            "Min: 0.0034528326824410094\n",
            "Max: 0.9973965117398637\n"
          ]
        }
      ]
    },
    {
      "cell_type": "code",
      "source": [
        "# Plot a boxplot to understand the spread and identify outliers"
      ],
      "metadata": {
        "id": "yJsYAYhW2FAJ"
      },
      "execution_count": null,
      "outputs": []
    },
    {
      "cell_type": "code",
      "metadata": {
        "colab": {
          "base_uri": "https://localhost:8080/",
          "height": 494
        },
        "id": "3de9617e",
        "outputId": "66fdfcd8-b4ad-4bc2-ba27-01e972240d01"
      },
      "source": [
        "import matplotlib.pyplot as plt\n",
        "import seaborn as sns\n",
        "import numpy as np\n",
        "\n",
        "# Create a sample dataset\n",
        "data = np.random.normal(loc=0, scale=1, size=100)\n",
        "\n",
        "# Create a boxplot\n",
        "plt.figure(figsize=(8, 6))\n",
        "sns.boxplot(y=data)\n",
        "\n",
        "# Add titles and labels\n",
        "plt.title('Boxplot to Visualize Spread and Outliers')\n",
        "plt.ylabel('Value')\n",
        "\n",
        "# Show the plot\n",
        "plt.show()"
      ],
      "execution_count": 17,
      "outputs": [
        {
          "output_type": "display_data",
          "data": {
            "text/plain": [
              "<Figure size 800x600 with 1 Axes>"
            ],
            "image/png": "[encoded data removed]"
          },
          "metadata": {}
        }
      ]
    },
    {
      "cell_type": "code",
      "source": [
        "# Calculate the interquartile range (IQR) of a dataset"
      ],
      "metadata": {
        "id": "lQsjEkqK2RMD"
      },
      "execution_count": null,
      "outputs": []
    },
    {
      "cell_type": "code",
      "metadata": {
        "colab": {
          "base_uri": "https://localhost:8080/"
        },
        "id": "f6a803a9",
        "outputId": "6bdff679-f975-44b3-b5bd-ee4d426a18ca"
      },
      "source": [
        "import numpy as np\n",
        "\n",
        "# Create a sample dataset\n",
        "data = [1, 2, 3, 4, 5, 6, 7, 8, 9, 10, 10]\n",
        "\n",
        "# Calculate the first quartile (Q1)\n",
        "Q1 = np.percentile(data, 25)\n",
        "\n",
        "# Calculate the third quartile (Q3)\n",
        "Q3 = np.percentile(data, 75)\n",
        "\n",
        "# Calculate the Interquartile Range (IQR)\n",
        "IQR = Q3 - Q1\n",
        "\n",
        "print(f\"Dataset: {data}\")\n",
        "print(f\"First Quartile (Q1): {Q1}\")\n",
        "print(f\"Third Quartile (Q3): {Q3}\")\n",
        "print(f\"Interquartile Range (IQR): {IQR}\")"
      ],
      "execution_count": 18,
      "outputs": [
        {
          "output_type": "stream",
          "name": "stdout",
          "text": [
            "Dataset: [1, 2, 3, 4, 5, 6, 7, 8, 9, 10, 10]\n",
            "First Quartile (Q1): 3.5\n",
            "Third Quartile (Q3): 8.5\n",
            "Interquartile Range (IQR): 5.0\n"
          ]
        }
      ]
    },
    {
      "cell_type": "code",
      "source": [
        "# Implement Z-score normalization and explain its significance"
      ],
      "metadata": {
        "id": "sciNBY9w2go2"
      },
      "execution_count": null,
      "outputs": []
    },
    {
      "cell_type": "code",
      "metadata": {
        "colab": {
          "base_uri": "https://localhost:8080/"
        },
        "id": "0696ebf0",
        "outputId": "711e14e1-0f98-4ef8-f568-2055e181190a"
      },
      "source": [
        "import numpy as np\n",
        "from scipy.stats import zscore\n",
        "\n",
        "# Create a sample dataset\n",
        "data = [1, 2, 3, 4, 5, 6, 7, 8, 9, 10, 10]\n",
        "\n",
        "# Calculate the Z-scores\n",
        "z_scores = zscore(data)\n",
        "\n",
        "print(f\"Original Dataset: {data}\")\n",
        "print(f\"Z-Scores: {z_scores}\")"
      ],
      "execution_count": 19,
      "outputs": [
        {
          "output_type": "stream",
          "name": "stdout",
          "text": [
            "Original Dataset: [1, 2, 3, 4, 5, 6, 7, 8, 9, 10, 10]\n",
            "Z-Scores: [-1.62081061 -1.29064548 -0.96048036 -0.63031524 -0.30015011  0.03001501\n",
            "  0.36018014  0.69034526  1.02051038  1.35067551  1.35067551]\n"
          ]
        }
      ]
    },
    {
      "cell_type": "markdown",
      "metadata": {
        "id": "1754d2b8"
      },
      "source": [
        "### Significance of Z-score normalization\n",
        "\n",
        "Z-score normalization (also known as standardization) is a data scaling technique that transforms data to have a mean of 0 and a standard deviation of 1. This is done by subtracting the mean of the dataset from each data point and then dividing by the standard deviation.\n",
        "\n",
        "The significance of Z-score normalization includes:\n",
        "\n",
        "* **Bringing data to a common scale:** It allows for comparison of data points from different datasets with different scales and units.\n",
        "* **Highlighting outliers:** Data points with a high absolute Z-score are considered outliers.\n",
        "* **Improving performance of machine learning models:** Many machine learning algorithms perform better when the input data is standardized.\n",
        "* **Assuming normality:** Z-score normalization is often used when the data is assumed to be normally distributed."
      ]
    },
    {
      "cell_type": "code",
      "source": [
        "# Compare two datasets using their standard deviations"
      ],
      "metadata": {
        "id": "fx7Cc-VI23zt"
      },
      "execution_count": null,
      "outputs": []
    },
    {
      "cell_type": "code",
      "metadata": {
        "colab": {
          "base_uri": "https://localhost:8080/"
        },
        "id": "40e56282",
        "outputId": "e9e65582-75ee-4c26-c426-192798f3ebf6"
      },
      "source": [
        "import numpy as np\n",
        "\n",
        "# Create two sample datasets\n",
        "dataset1 = [1, 2, 3, 4, 5]\n",
        "dataset2 = [1, 5, 10, 15, 20] # Dataset with higher variability\n",
        "\n",
        "# Calculate the standard deviation for each dataset\n",
        "std_dev1 = np.std(dataset1)\n",
        "std_dev2 = np.std(dataset2)\n",
        "\n",
        "print(f\"Dataset 1: {dataset1}\")\n",
        "print(f\"Standard Deviation of Dataset 1: {std_dev1}\")\n",
        "\n",
        "print(f\"\\nDataset 2: {dataset2}\")\n",
        "print(f\"Standard Deviation of Dataset 2: {std_dev2}\")\n",
        "\n",
        "# Compare the standard deviations\n",
        "if std_dev1 < std_dev2:\n",
        "    print(\"\\nDataset 2 has a higher standard deviation, indicating greater variability.\")\n",
        "elif std_dev1 > std_dev2:\n",
        "    print(\"\\nDataset 1 has a higher standard deviation, indicating greater variability.\")\n",
        "else:\n",
        "    print(\"\\nBoth datasets have the same standard deviation.\")"
      ],
      "execution_count": 20,
      "outputs": [
        {
          "output_type": "stream",
          "name": "stdout",
          "text": [
            "Dataset 1: [1, 2, 3, 4, 5]\n",
            "Standard Deviation of Dataset 1: 1.4142135623730951\n",
            "\n",
            "Dataset 2: [1, 5, 10, 15, 20]\n",
            "Standard Deviation of Dataset 2: 6.794115100585212\n",
            "\n",
            "Dataset 2 has a higher standard deviation, indicating greater variability.\n"
          ]
        }
      ]
    },
    {
      "cell_type": "code",
      "source": [
        "# Write a Python program to visualize covariance using a heatmap"
      ],
      "metadata": {
        "id": "WXrHVRQK3FpD"
      },
      "execution_count": null,
      "outputs": []
    },
    {
      "cell_type": "code",
      "metadata": {
        "colab": {
          "base_uri": "https://localhost:8080/",
          "height": 545
        },
        "id": "fcaa0fce",
        "outputId": "978c4cfc-35e4-449c-e758-4808bb9a2efa"
      },
      "source": [
        "import numpy as np\n",
        "import seaborn as sns\n",
        "import matplotlib.pyplot as plt\n",
        "\n",
        "# Create a sample dataset with multiple variables\n",
        "data = {'A': np.random.rand(100),\n",
        "        'B': np.random.rand(100) * 2,\n",
        "        'C': np.random.rand(100) + np.random.rand(100)}\n",
        "df = pd.DataFrame(data)\n",
        "\n",
        "# Calculate the covariance matrix\n",
        "cov_matrix = df.cov()\n",
        "\n",
        "# Create a heatmap\n",
        "plt.figure(figsize=(8, 6))\n",
        "sns.heatmap(cov_matrix, annot=True, cmap='coolwarm', fmt=\".2f\")\n",
        "\n",
        "# Add title\n",
        "plt.title('Covariance Heatmap')\n",
        "\n",
        "# Show the plot\n",
        "plt.show()"
      ],
      "execution_count": 21,
      "outputs": [
        {
          "output_type": "display_data",
          "data": {
            "text/plain": [
              "<Figure size 800x600 with 2 Axes>"
            ],
            "image/png": "[encoded data removed]"
          },
          "metadata": {}
        }
      ]
    },
    {
      "cell_type": "code",
      "source": [
        "# Use seaborn to create a correlation matrix for a dataset"
      ],
      "metadata": {
        "id": "npPfroln82dO"
      },
      "execution_count": null,
      "outputs": []
    },
    {
      "cell_type": "code",
      "metadata": {
        "colab": {
          "base_uri": "https://localhost:8080/",
          "height": 545
        },
        "id": "a0253ad7",
        "outputId": "a191c712-b744-4796-e7b8-41886ec75902"
      },
      "source": [
        "import pandas as pd\n",
        "import numpy as np\n",
        "import seaborn as sns\n",
        "import matplotlib.pyplot as plt\n",
        "\n",
        "# Create a sample dataset with multiple variables\n",
        "data = {'A': np.random.rand(100),\n",
        "        'B': np.random.rand(100) * 2,\n",
        "        'C': np.random.rand(100) + np.random.rand(100)}\n",
        "df = pd.DataFrame(data)\n",
        "\n",
        "# Calculate the correlation matrix\n",
        "corr_matrix = df.corr()\n",
        "\n",
        "# Create a heatmap\n",
        "plt.figure(figsize=(8, 6))\n",
        "sns.heatmap(corr_matrix, annot=True, cmap='coolwarm', fmt=\".2f\")\n",
        "\n",
        "# Add title\n",
        "plt.title('Correlation Matrix Heatmap')\n",
        "\n",
        "# Show the plot\n",
        "plt.show()"
      ],
      "execution_count": 22,
      "outputs": [
        {
          "output_type": "display_data",
          "data": {
            "text/plain": [
              "<Figure size 800x600 with 2 Axes>"
            ],
            "image/png": "[encoded data removed]"
          },
          "metadata": {}
        }
      ]
    },
    {
      "cell_type": "code",
      "source": [
        "# Generate a dataset and implement both variance and standard deviation computations"
      ],
      "metadata": {
        "id": "gdpaIVGe-DPR"
      },
      "execution_count": null,
      "outputs": []
    },
    {
      "cell_type": "code",
      "metadata": {
        "colab": {
          "base_uri": "https://localhost:8080/"
        },
        "id": "6160caf4",
        "outputId": "e26bfa07-e92f-4d94-f4f3-92bf6ce7abfe"
      },
      "source": [
        "import numpy as np\n",
        "\n",
        "# Generate a dataset\n",
        "data = np.random.rand(100) * 100\n",
        "\n",
        "# Calculate variance\n",
        "variance = np.var(data)\n",
        "print(f\"Variance: {variance}\")\n",
        "\n",
        "# Calculate standard deviation\n",
        "std_deviation = np.std(data)\n",
        "print(f\"Standard Deviation: {std_deviation}\")"
      ],
      "execution_count": 23,
      "outputs": [
        {
          "output_type": "stream",
          "name": "stdout",
          "text": [
            "Variance: 1030.3948906770656\n",
            "Standard Deviation: 32.09976465142798\n"
          ]
        }
      ]
    },
    {
      "cell_type": "code",
      "source": [
        "# Visualize skewness and kurtosis using Python libraries like matplotlib or seaborn"
      ],
      "metadata": {
        "id": "k-Ejh5F4-SVL"
      },
      "execution_count": null,
      "outputs": []
    },
    {
      "cell_type": "code",
      "metadata": {
        "colab": {
          "base_uri": "https://localhost:8080/",
          "height": 355
        },
        "id": "e956cef1",
        "outputId": "497daf49-0c09-4dcd-bad0-ea7412942380"
      },
      "source": [
        "import matplotlib.pyplot as plt\n",
        "import numpy as np\n",
        "import seaborn as sns\n",
        "from scipy.stats import skew, kurtosis\n",
        "\n",
        "# Generate a dataset with a positive skew\n",
        "data_skewed = np.random.exponential(scale=2.0, size=1000)\n",
        "\n",
        "# Generate a dataset with higher kurtosis (more peaked and heavier tails)\n",
        "# Using a Laplace distribution as an example\n",
        "data_kurtic = np.random.laplace(loc=0, scale=1.0, size=1000)\n",
        "\n",
        "# Calculate skewness and kurtosis for verification\n",
        "skewness_skewed = skew(data_skewed)\n",
        "kurtosis_skewed = kurtosis(data_skewed)\n",
        "\n",
        "skewness_kurtic = skew(data_kurtic)\n",
        "kurtosis_kurtic = kurtosis(data_kurtic)\n",
        "\n",
        "\n",
        "print(f\"Skewness of skewed data: {skewness_skewed:.2f}\")\n",
        "print(f\"Kurtosis of skewed data: {kurtosis_skewed:.2f}\")\n",
        "print(f\"Skewness of kurtic data: {skewness_kurtic:.2f}\")\n",
        "print(f\"Kurtosis of kurtic data: {kurtosis_kurtic:.2f}\")\n",
        "\n",
        "\n",
        "# Plotting the distributions\n",
        "plt.figure(figsize=(12, 5))\n",
        "\n",
        "plt.subplot(1, 2, 1)\n",
        "sns.histplot(data_skewed, kde=True, color='skyblue')\n",
        "plt.title('Distribution with Positive Skew')\n",
        "plt.xlabel('Value')\n",
        "plt.ylabel('Frequency')\n",
        "\n",
        "plt.subplot(1, 2, 2)\n",
        "sns.histplot(data_kurtic, kde=True, color='salmon')\n",
        "plt.title('Distribution with Higher Kurtosis')\n",
        "plt.xlabel('Value')\n",
        "plt.ylabel('Frequency')\n",
        "\n",
        "plt.tight_layout()\n",
        "plt.show()"
      ],
      "execution_count": 24,
      "outputs": [
        {
          "output_type": "stream",
          "name": "stdout",
          "text": [
            "Skewness of skewed data: 1.93\n",
            "Kurtosis of skewed data: 4.75\n",
            "Skewness of kurtic data: 0.10\n",
            "Kurtosis of kurtic data: 3.02\n"
          ]
        },
        {
          "output_type": "display_data",
          "data": {
            "text/plain": [
              "<Figure size 1200x500 with 2 Axes>"
            ],
            "image/png": "[encoded data removed]"
          },
          "metadata": {}
        }
      ]
    },
    {
      "cell_type": "code",
      "source": [
        "# mplement the Pearson and Spearman correlation coefficients for a dataset."
      ],
      "metadata": {
        "id": "pEnQ0LA_-oZW"
      },
      "execution_count": null,
      "outputs": []
    },
    {
      "cell_type": "code",
      "metadata": {
        "colab": {
          "base_uri": "https://localhost:8080/"
        },
        "id": "5785456b",
        "outputId": "1a39e6b7-743a-4372-869f-fee969b70a6d"
      },
      "source": [
        "import pandas as pd\n",
        "import numpy as np\n",
        "from scipy.stats import pearsonr, spearmanr\n",
        "\n",
        "# Create a sample dataset with two variables\n",
        "data = {'Variable 1': [1, 2, 3, 4, 5, 6, 7, 8, 9, 10],\n",
        "        'Variable 2': [10, 9, 8, 7, 6, 5, 4, 3, 2, 1]}\n",
        "df = pd.DataFrame(data)\n",
        "\n",
        "print(\"Dataset:\")\n",
        "print(df)\n",
        "\n",
        "# Calculate Pearson correlation coefficient\n",
        "pearson_corr, _ = pearsonr(df['Variable 1'], df['Variable 2'])\n",
        "print(f\"\\nPearson Correlation Coefficient: {pearson_corr}\")\n",
        "\n",
        "# Calculate Spearman correlation coefficient\n",
        "spearman_corr, _ = spearmanr(df['Variable 1'], df['Variable 2'])\n",
        "print(f\"Spearman Correlation Coefficient: {spearman_corr}\")"
      ],
      "execution_count": 25,
      "outputs": [
        {
          "output_type": "stream",
          "name": "stdout",
          "text": [
            "Dataset:\n",
            "   Variable 1  Variable 2\n",
            "0           1          10\n",
            "1           2           9\n",
            "2           3           8\n",
            "3           4           7\n",
            "4           5           6\n",
            "5           6           5\n",
            "6           7           4\n",
            "7           8           3\n",
            "8           9           2\n",
            "9          10           1\n",
            "\n",
            "Pearson Correlation Coefficient: -0.9999999999999997\n",
            "Spearman Correlation Coefficient: -0.9999999999999999\n"
          ]
        }
      ]
    }
  ]
}